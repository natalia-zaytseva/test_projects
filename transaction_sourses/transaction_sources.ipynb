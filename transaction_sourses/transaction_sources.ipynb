{
 "cells": [
  {
   "cell_type": "markdown",
   "id": "71e6410b",
   "metadata": {},
   "source": [
    "# Определение источников транзакций"
   ]
  },
  {
   "cell_type": "markdown",
   "id": "2fd5a400",
   "metadata": {},
   "source": [
    "<b>Описание:</b>\n",
    "\n",
    "Внутри BigQuery имеется публичный датасет ga_sessions с описанием визитов пользователей на сайт интернет-магазина. Необходимо сформировать выгрузку за период 2 недели и для каждой совершенной транзакции составить цепочку источников визитов пользователя. Также необходимо определить топ-10 самых популярных цепочек. \n",
    "\n",
    "<b>Цель:</b>\n",
    "1. Для каждой транзакции определить цепочку касаний.\n",
    "2. Выявить топ-10 самых популярных цепочек касания, приведших к транзакции."
   ]
  },
  {
   "cell_type": "markdown",
   "id": "f88f0f9e",
   "metadata": {},
   "source": [
    "## Импорт библиотек и предобработка данных"
   ]
  },
  {
   "cell_type": "markdown",
   "id": "9b37b36c",
   "metadata": {},
   "source": [
    "Импортируем необходимые библиотеки и устанавливаем настройки"
   ]
  },
  {
   "cell_type": "code",
   "execution_count": 1,
   "id": "d02ea43c",
   "metadata": {},
   "outputs": [],
   "source": [
    "import pandas as pd\n",
    "import numpy as np\n",
    "from datetime import datetime, timedelta\n",
    "import re\n",
    "import warnings\n",
    "\n",
    "warnings.filterwarnings('ignore')\n",
    "pd.set_option('max_colwidth', None)\n",
    "pd.set_option('display.max_rows', None)\n",
    "pd.set_option('display.max_columns', None)"
   ]
  },
  {
   "cell_type": "markdown",
   "id": "ce42ba71",
   "metadata": {},
   "source": [
    "Загружаем таблицу\n",
    "\n",
    "Таблица сформирована SQL-запросом:\n",
    "\n",
    "SELECT DISTINCT fullVisitorId,\n",
    "\n",
    "       visitNumber,        \n",
    "       visitId, \n",
    "       visitStartTime, \n",
    "       date, \n",
    "       trafficSource.source,\n",
    "       trafficSource.medium,\n",
    "       hits.transaction.transactionId\n",
    "FROM `bigquery-public-data.google_analytics_sample.ga_sessions_*`,\n",
    "\n",
    "UNNEST(hits) AS hits\n",
    "\n",
    "WHERE _table_suffix BETWEEN '20170719' AND '20170801'"
   ]
  },
  {
   "cell_type": "code",
   "execution_count": 2,
   "id": "853bfe0a",
   "metadata": {},
   "outputs": [
    {
     "data": {
      "text/html": [
       "<div>\n",
       "<style scoped>\n",
       "    .dataframe tbody tr th:only-of-type {\n",
       "        vertical-align: middle;\n",
       "    }\n",
       "\n",
       "    .dataframe tbody tr th {\n",
       "        vertical-align: top;\n",
       "    }\n",
       "\n",
       "    .dataframe thead th {\n",
       "        text-align: right;\n",
       "    }\n",
       "</style>\n",
       "<table border=\"1\" class=\"dataframe\">\n",
       "  <thead>\n",
       "    <tr style=\"text-align: right;\">\n",
       "      <th></th>\n",
       "      <th>fullVisitorId</th>\n",
       "      <th>visitNumber</th>\n",
       "      <th>visitId</th>\n",
       "      <th>visitStartTime</th>\n",
       "      <th>date</th>\n",
       "      <th>source</th>\n",
       "      <th>medium</th>\n",
       "      <th>transactionId</th>\n",
       "    </tr>\n",
       "  </thead>\n",
       "  <tbody>\n",
       "    <tr>\n",
       "      <th>0</th>\n",
       "      <td>2265977830656365501</td>\n",
       "      <td>1</td>\n",
       "      <td>1500821038</td>\n",
       "      <td>1500821038</td>\n",
       "      <td>20170723</td>\n",
       "      <td>google</td>\n",
       "      <td>organic</td>\n",
       "      <td>NaN</td>\n",
       "    </tr>\n",
       "    <tr>\n",
       "      <th>1</th>\n",
       "      <td>6474095028710839893</td>\n",
       "      <td>2</td>\n",
       "      <td>1500875167</td>\n",
       "      <td>1500875167</td>\n",
       "      <td>20170723</td>\n",
       "      <td>google</td>\n",
       "      <td>organic</td>\n",
       "      <td>NaN</td>\n",
       "    </tr>\n",
       "    <tr>\n",
       "      <th>2</th>\n",
       "      <td>6443653150131206845</td>\n",
       "      <td>3</td>\n",
       "      <td>1500822280</td>\n",
       "      <td>1500822280</td>\n",
       "      <td>20170723</td>\n",
       "      <td>google</td>\n",
       "      <td>organic</td>\n",
       "      <td>NaN</td>\n",
       "    </tr>\n",
       "    <tr>\n",
       "      <th>3</th>\n",
       "      <td>9860085665958246812</td>\n",
       "      <td>2</td>\n",
       "      <td>1500831228</td>\n",
       "      <td>1500831228</td>\n",
       "      <td>20170723</td>\n",
       "      <td>google</td>\n",
       "      <td>organic</td>\n",
       "      <td>NaN</td>\n",
       "    </tr>\n",
       "    <tr>\n",
       "      <th>4</th>\n",
       "      <td>7700344873342427798</td>\n",
       "      <td>4</td>\n",
       "      <td>1500816531</td>\n",
       "      <td>1500816531</td>\n",
       "      <td>20170723</td>\n",
       "      <td>google</td>\n",
       "      <td>organic</td>\n",
       "      <td>NaN</td>\n",
       "    </tr>\n",
       "  </tbody>\n",
       "</table>\n",
       "</div>"
      ],
      "text/plain": [
       "         fullVisitorId  visitNumber     visitId visitStartTime      date  \\\n",
       "0  2265977830656365501            1  1500821038     1500821038  20170723   \n",
       "1  6474095028710839893            2  1500875167     1500875167  20170723   \n",
       "2  6443653150131206845            3  1500822280     1500822280  20170723   \n",
       "3  9860085665958246812            2  1500831228     1500831228  20170723   \n",
       "4  7700344873342427798            4  1500816531     1500816531  20170723   \n",
       "\n",
       "   source   medium transactionId  \n",
       "0  google  organic           NaN  \n",
       "1  google  organic           NaN  \n",
       "2  google  organic           NaN  \n",
       "3  google  organic           NaN  \n",
       "4  google  organic           NaN  "
      ]
     },
     "execution_count": 2,
     "metadata": {},
     "output_type": "execute_result"
    }
   ],
   "source": [
    "df = pd.read_csv('bq-results-20230205-230025-1675638046829.csv', \n",
    "                dtype={'fullVisitorId':str,\n",
    "                       'visitNumber':int,\n",
    "                       'visitId':str,\n",
    "                       'visitStartTime':str,\n",
    "                       'date':str,\n",
    "                       'source':str,\n",
    "                       'medium':str,\n",
    "                       'transactionId':str})\n",
    "df.head()"
   ]
  },
  {
   "cell_type": "code",
   "execution_count": 3,
   "id": "68521477",
   "metadata": {},
   "outputs": [
    {
     "name": "stdout",
     "output_type": "stream",
     "text": [
      "Дубликатов в таблице: 0\n",
      "\n",
      "<class 'pandas.core.frame.DataFrame'>\n",
      "RangeIndex: 33146 entries, 0 to 33145\n",
      "Data columns (total 8 columns):\n",
      " #   Column          Non-Null Count  Dtype \n",
      "---  ------          --------------  ----- \n",
      " 0   fullVisitorId   33146 non-null  object\n",
      " 1   visitNumber     33146 non-null  int32 \n",
      " 2   visitId         33146 non-null  object\n",
      " 3   visitStartTime  33146 non-null  object\n",
      " 4   date            33146 non-null  object\n",
      " 5   source          33146 non-null  object\n",
      " 6   medium          33146 non-null  object\n",
      " 7   transactionId   521 non-null    object\n",
      "dtypes: int32(1), object(7)\n",
      "memory usage: 1.9+ MB\n"
     ]
    }
   ],
   "source": [
    "print(f'Дубликатов в таблице: {df.duplicated().sum()}', end='\\n\\n')\n",
    "df.info()"
   ]
  },
  {
   "cell_type": "markdown",
   "id": "eab5860b",
   "metadata": {},
   "source": [
    "Дубликатов в таблице нет (так как мы выгрузили DISTINCT значения). Приведем данные к нужным форматам."
   ]
  },
  {
   "cell_type": "code",
   "execution_count": 4,
   "id": "1afb7d4a",
   "metadata": {},
   "outputs": [
    {
     "name": "stdout",
     "output_type": "stream",
     "text": [
      "<class 'pandas.core.frame.DataFrame'>\n",
      "RangeIndex: 33146 entries, 0 to 33145\n",
      "Data columns (total 8 columns):\n",
      " #   Column          Non-Null Count  Dtype         \n",
      "---  ------          --------------  -----         \n",
      " 0   fullVisitorId   33146 non-null  object        \n",
      " 1   visitNumber     33146 non-null  int32         \n",
      " 2   visitId         33146 non-null  object        \n",
      " 3   visitStartTime  33146 non-null  datetime64[ns]\n",
      " 4   date            33146 non-null  datetime64[ns]\n",
      " 5   source          33146 non-null  object        \n",
      " 6   medium          33146 non-null  object        \n",
      " 7   transactionId   521 non-null    object        \n",
      "dtypes: datetime64[ns](2), int32(1), object(5)\n",
      "memory usage: 1.9+ MB\n"
     ]
    }
   ],
   "source": [
    "df['visitStartTime'] = pd.to_datetime(df['visitStartTime'], unit='s')\n",
    "df['date'] = pd.to_datetime((df['date']), format='%Y%m%d')\n",
    "df.info()"
   ]
  },
  {
   "cell_type": "code",
   "execution_count": 5,
   "id": "dcadd6c1",
   "metadata": {},
   "outputs": [
    {
     "data": {
      "text/html": [
       "<div>\n",
       "<style scoped>\n",
       "    .dataframe tbody tr th:only-of-type {\n",
       "        vertical-align: middle;\n",
       "    }\n",
       "\n",
       "    .dataframe tbody tr th {\n",
       "        vertical-align: top;\n",
       "    }\n",
       "\n",
       "    .dataframe thead th {\n",
       "        text-align: right;\n",
       "    }\n",
       "</style>\n",
       "<table border=\"1\" class=\"dataframe\">\n",
       "  <thead>\n",
       "    <tr style=\"text-align: right;\">\n",
       "      <th></th>\n",
       "      <th>fullVisitorId</th>\n",
       "      <th>visitNumber</th>\n",
       "      <th>visitId</th>\n",
       "      <th>visitStartTime</th>\n",
       "      <th>date</th>\n",
       "      <th>source</th>\n",
       "      <th>medium</th>\n",
       "      <th>transactionId</th>\n",
       "    </tr>\n",
       "  </thead>\n",
       "  <tbody>\n",
       "    <tr>\n",
       "      <th>0</th>\n",
       "      <td>2265977830656365501</td>\n",
       "      <td>1</td>\n",
       "      <td>1500821038</td>\n",
       "      <td>2017-07-23 14:43:58</td>\n",
       "      <td>2017-07-23</td>\n",
       "      <td>google</td>\n",
       "      <td>organic</td>\n",
       "      <td>NaN</td>\n",
       "    </tr>\n",
       "    <tr>\n",
       "      <th>1</th>\n",
       "      <td>6474095028710839893</td>\n",
       "      <td>2</td>\n",
       "      <td>1500875167</td>\n",
       "      <td>2017-07-24 05:46:07</td>\n",
       "      <td>2017-07-23</td>\n",
       "      <td>google</td>\n",
       "      <td>organic</td>\n",
       "      <td>NaN</td>\n",
       "    </tr>\n",
       "    <tr>\n",
       "      <th>2</th>\n",
       "      <td>6443653150131206845</td>\n",
       "      <td>3</td>\n",
       "      <td>1500822280</td>\n",
       "      <td>2017-07-23 15:04:40</td>\n",
       "      <td>2017-07-23</td>\n",
       "      <td>google</td>\n",
       "      <td>organic</td>\n",
       "      <td>NaN</td>\n",
       "    </tr>\n",
       "    <tr>\n",
       "      <th>3</th>\n",
       "      <td>9860085665958246812</td>\n",
       "      <td>2</td>\n",
       "      <td>1500831228</td>\n",
       "      <td>2017-07-23 17:33:48</td>\n",
       "      <td>2017-07-23</td>\n",
       "      <td>google</td>\n",
       "      <td>organic</td>\n",
       "      <td>NaN</td>\n",
       "    </tr>\n",
       "    <tr>\n",
       "      <th>4</th>\n",
       "      <td>7700344873342427798</td>\n",
       "      <td>4</td>\n",
       "      <td>1500816531</td>\n",
       "      <td>2017-07-23 13:28:51</td>\n",
       "      <td>2017-07-23</td>\n",
       "      <td>google</td>\n",
       "      <td>organic</td>\n",
       "      <td>NaN</td>\n",
       "    </tr>\n",
       "  </tbody>\n",
       "</table>\n",
       "</div>"
      ],
      "text/plain": [
       "         fullVisitorId  visitNumber     visitId      visitStartTime  \\\n",
       "0  2265977830656365501            1  1500821038 2017-07-23 14:43:58   \n",
       "1  6474095028710839893            2  1500875167 2017-07-24 05:46:07   \n",
       "2  6443653150131206845            3  1500822280 2017-07-23 15:04:40   \n",
       "3  9860085665958246812            2  1500831228 2017-07-23 17:33:48   \n",
       "4  7700344873342427798            4  1500816531 2017-07-23 13:28:51   \n",
       "\n",
       "        date  source   medium transactionId  \n",
       "0 2017-07-23  google  organic           NaN  \n",
       "1 2017-07-23  google  organic           NaN  \n",
       "2 2017-07-23  google  organic           NaN  \n",
       "3 2017-07-23  google  organic           NaN  \n",
       "4 2017-07-23  google  organic           NaN  "
      ]
     },
     "execution_count": 5,
     "metadata": {},
     "output_type": "execute_result"
    }
   ],
   "source": [
    "df.head()"
   ]
  },
  {
   "cell_type": "markdown",
   "id": "bc3af3d7",
   "metadata": {},
   "source": [
    "Проверяем, что даты в таблице те, что мы хотели получить."
   ]
  },
  {
   "cell_type": "code",
   "execution_count": 6,
   "id": "b13e978d",
   "metadata": {},
   "outputs": [
    {
     "name": "stdout",
     "output_type": "stream",
     "text": [
      "Минимальная дата visitStartTime: 2017-07-19 07:00:27\n",
      "Минимальная дата visitStartTime: 2017-08-02 06:59:53\n",
      "Минимальная дата date: 2017-07-19 00:00:00\n",
      "Минимальная дата date: 2017-08-01 00:00:00\n"
     ]
    }
   ],
   "source": [
    "print(f'Минимальная дата visitStartTime: {df[\"visitStartTime\"].min()}')\n",
    "print(f'Минимальная дата visitStartTime: {df[\"visitStartTime\"].max()}')\n",
    "print(f'Минимальная дата date: {df[\"date\"].min()}')\n",
    "print(f'Минимальная дата date: {df[\"date\"].max()}')"
   ]
  },
  {
   "cell_type": "markdown",
   "id": "5ec6498e",
   "metadata": {},
   "source": [
    "Данные предобработаны, приступаем к исследовательскому анализу."
   ]
  },
  {
   "cell_type": "markdown",
   "id": "7a78aea1",
   "metadata": {},
   "source": [
    "## Исследовательский анализ и подготовка финального датасета "
   ]
  },
  {
   "cell_type": "markdown",
   "id": "5bfee9f0",
   "metadata": {},
   "source": [
    "### Траназакции"
   ]
  },
  {
   "cell_type": "markdown",
   "id": "b9b7bd75",
   "metadata": {},
   "source": [
    "Проверяем, что нет дублирующихся транзакций."
   ]
  },
  {
   "cell_type": "code",
   "execution_count": 7,
   "id": "f5a63f8c",
   "metadata": {},
   "outputs": [
    {
     "name": "stdout",
     "output_type": "stream",
     "text": [
      "Всего транзакций: 521\n",
      "Уникальных транзакций: 521\n"
     ]
    }
   ],
   "source": [
    "print(f'Всего транзакций: {df[\"transactionId\"].count()}')\n",
    "print(f'Уникальных транзакций: {df[\"transactionId\"].nunique()}')"
   ]
  },
  {
   "cell_type": "markdown",
   "id": "692f1275",
   "metadata": {},
   "source": [
    "Создадим столбец `is_transaction` с флагом, что в данной строке есть транзакция."
   ]
  },
  {
   "cell_type": "code",
   "execution_count": 8,
   "id": "d196e1df",
   "metadata": {},
   "outputs": [
    {
     "data": {
      "text/plain": [
       "0    32625\n",
       "1      521\n",
       "Name: is_transaction, dtype: int64"
      ]
     },
     "execution_count": 8,
     "metadata": {},
     "output_type": "execute_result"
    }
   ],
   "source": [
    "df['transactionId'] = df['transactionId'].astype(str)\n",
    "df['is_transaction'] = df['transactionId'].apply(lambda x: 1 if re.search('.*\\d+.*', x) else 0)\n",
    "df['transactionId'] = df['transactionId'].replace('nan', np.nan)\n",
    "df['is_transaction'].value_counts()"
   ]
  },
  {
   "cell_type": "markdown",
   "id": "efc5e0a2",
   "metadata": {},
   "source": [
    "### Визиты"
   ]
  },
  {
   "cell_type": "markdown",
   "id": "a7b65506",
   "metadata": {},
   "source": [
    "Смотрим, какие по счету визиты есть в таблице."
   ]
  },
  {
   "cell_type": "code",
   "execution_count": 9,
   "id": "4af87d0a",
   "metadata": {},
   "outputs": [
    {
     "data": {
      "text/plain": [
       "1    24195\n",
       "2     3911\n",
       "3     1588\n",
       "4      888\n",
       "5      553\n",
       "Name: visitNumber, dtype: int64"
      ]
     },
     "execution_count": 9,
     "metadata": {},
     "output_type": "execute_result"
    }
   ],
   "source": [
    "df['visitNumber'].value_counts().head()"
   ]
  },
  {
   "cell_type": "markdown",
   "id": "46a78a93",
   "metadata": {},
   "source": [
    "Необходимо в финальном датасете оставить только пользователей, совершивших транзакцию. А также только пользователей, для которых можно составить цепочку с первого визита. \n",
    "\n",
    "То есть пользователи, которые ранее 19.07.2017 совершали визиты, не попали к нам в таблицу, и корректную цепочку для них мы составить не можем."
   ]
  },
  {
   "cell_type": "code",
   "execution_count": 10,
   "id": "670c02a9",
   "metadata": {},
   "outputs": [
    {
     "name": "stdout",
     "output_type": "stream",
     "text": [
      "Всего пользователей, совершивших транзакцию: 492\n"
     ]
    }
   ],
   "source": [
    "good_visitors = df.query('is_transaction == 1')['fullVisitorId'].unique()\n",
    "print(f'Всего пользователей, совершивших транзакцию: {len(good_visitors)}')"
   ]
  },
  {
   "cell_type": "code",
   "execution_count": 11,
   "id": "41829952",
   "metadata": {},
   "outputs": [
    {
     "name": "stdout",
     "output_type": "stream",
     "text": [
      "Длина таблицы до: 33146\n",
      "Длина таблицы после: 1730\n"
     ]
    }
   ],
   "source": [
    "print(f'Длина таблицы до: {len(df)}')\n",
    "df_good = df.query('fullVisitorId in @good_visitors')\n",
    "print(f'Длина таблицы после: {len(df_good)}')"
   ]
  },
  {
   "cell_type": "markdown",
   "id": "1fe13af8",
   "metadata": {},
   "source": [
    "Определяем минимальный порядковый номер визита."
   ]
  },
  {
   "cell_type": "code",
   "execution_count": 12,
   "id": "9f1d474b",
   "metadata": {},
   "outputs": [
    {
     "data": {
      "text/html": [
       "<div>\n",
       "<style scoped>\n",
       "    .dataframe tbody tr th:only-of-type {\n",
       "        vertical-align: middle;\n",
       "    }\n",
       "\n",
       "    .dataframe tbody tr th {\n",
       "        vertical-align: top;\n",
       "    }\n",
       "\n",
       "    .dataframe thead th {\n",
       "        text-align: right;\n",
       "    }\n",
       "</style>\n",
       "<table border=\"1\" class=\"dataframe\">\n",
       "  <thead>\n",
       "    <tr style=\"text-align: right;\">\n",
       "      <th></th>\n",
       "      <th>fullVisitorId</th>\n",
       "      <th>visitNumber</th>\n",
       "    </tr>\n",
       "  </thead>\n",
       "  <tbody>\n",
       "    <tr>\n",
       "      <th>0</th>\n",
       "      <td>0010295111715775250</td>\n",
       "      <td>2</td>\n",
       "    </tr>\n",
       "    <tr>\n",
       "      <th>1</th>\n",
       "      <td>0024932550342595467</td>\n",
       "      <td>2</td>\n",
       "    </tr>\n",
       "    <tr>\n",
       "      <th>2</th>\n",
       "      <td>0047078955120420928</td>\n",
       "      <td>1</td>\n",
       "    </tr>\n",
       "    <tr>\n",
       "      <th>3</th>\n",
       "      <td>0080479763428955064</td>\n",
       "      <td>3</td>\n",
       "    </tr>\n",
       "    <tr>\n",
       "      <th>4</th>\n",
       "      <td>0082806901961150595</td>\n",
       "      <td>1</td>\n",
       "    </tr>\n",
       "  </tbody>\n",
       "</table>\n",
       "</div>"
      ],
      "text/plain": [
       "         fullVisitorId  visitNumber\n",
       "0  0010295111715775250            2\n",
       "1  0024932550342595467            2\n",
       "2  0047078955120420928            1\n",
       "3  0080479763428955064            3\n",
       "4  0082806901961150595            1"
      ]
     },
     "execution_count": 12,
     "metadata": {},
     "output_type": "execute_result"
    }
   ],
   "source": [
    "min_visit = df_good.groupby('fullVisitorId').agg({'visitNumber':'min'}).reset_index()\n",
    "min_visit.head()"
   ]
  },
  {
   "cell_type": "code",
   "execution_count": 13,
   "id": "ede5104f",
   "metadata": {},
   "outputs": [
    {
     "name": "stdout",
     "output_type": "stream",
     "text": [
      "Всего пользователей, совершивших транзакцию и о которых имеются данные с первого захода: 286\n"
     ]
    }
   ],
   "source": [
    "good_visitors_2 = min_visit.query('visitNumber == 1')['fullVisitorId'].unique()\n",
    "print('Всего пользователей, совершивших транзакцию и о которых имеются данные с первого захода: {}'\n",
    "     .format(len(good_visitors_2)))"
   ]
  },
  {
   "cell_type": "markdown",
   "id": "440f3bc6",
   "metadata": {},
   "source": [
    "В финальном датафрейме `df_fin` оставляем только пользователей, для которых есть данные с первого захода и которые совершили транзакцию."
   ]
  },
  {
   "cell_type": "code",
   "execution_count": 14,
   "id": "06a31971",
   "metadata": {},
   "outputs": [
    {
     "name": "stdout",
     "output_type": "stream",
     "text": [
      "Длина итоговой таблицы для анализа: 966\n",
      "\n",
      "Количество транзакций в таблице: 297\n",
      "Уникальных пользователей в таблице: 286\n"
     ]
    },
    {
     "data": {
      "text/html": [
       "<div>\n",
       "<style scoped>\n",
       "    .dataframe tbody tr th:only-of-type {\n",
       "        vertical-align: middle;\n",
       "    }\n",
       "\n",
       "    .dataframe tbody tr th {\n",
       "        vertical-align: top;\n",
       "    }\n",
       "\n",
       "    .dataframe thead th {\n",
       "        text-align: right;\n",
       "    }\n",
       "</style>\n",
       "<table border=\"1\" class=\"dataframe\">\n",
       "  <thead>\n",
       "    <tr style=\"text-align: right;\">\n",
       "      <th></th>\n",
       "      <th>fullVisitorId</th>\n",
       "      <th>visitNumber</th>\n",
       "      <th>visitId</th>\n",
       "      <th>visitStartTime</th>\n",
       "      <th>date</th>\n",
       "      <th>source</th>\n",
       "      <th>medium</th>\n",
       "      <th>transactionId</th>\n",
       "      <th>is_transaction</th>\n",
       "    </tr>\n",
       "  </thead>\n",
       "  <tbody>\n",
       "    <tr>\n",
       "      <th>9</th>\n",
       "      <td>9973665079624172058</td>\n",
       "      <td>1</td>\n",
       "      <td>1500870192</td>\n",
       "      <td>2017-07-24 04:23:12</td>\n",
       "      <td>2017-07-23</td>\n",
       "      <td>(direct)</td>\n",
       "      <td>(none)</td>\n",
       "      <td>NaN</td>\n",
       "      <td>0</td>\n",
       "    </tr>\n",
       "    <tr>\n",
       "      <th>574</th>\n",
       "      <td>3563510904717248245</td>\n",
       "      <td>3</td>\n",
       "      <td>1500853402</td>\n",
       "      <td>2017-07-23 23:43:22</td>\n",
       "      <td>2017-07-23</td>\n",
       "      <td>google</td>\n",
       "      <td>organic</td>\n",
       "      <td>NaN</td>\n",
       "      <td>0</td>\n",
       "    </tr>\n",
       "    <tr>\n",
       "      <th>1381</th>\n",
       "      <td>190492934318255272</td>\n",
       "      <td>6</td>\n",
       "      <td>1500860330</td>\n",
       "      <td>2017-07-24 01:38:50</td>\n",
       "      <td>2017-07-23</td>\n",
       "      <td>google</td>\n",
       "      <td>organic</td>\n",
       "      <td>NaN</td>\n",
       "      <td>0</td>\n",
       "    </tr>\n",
       "    <tr>\n",
       "      <th>1382</th>\n",
       "      <td>5322397769480961983</td>\n",
       "      <td>4</td>\n",
       "      <td>1500857903</td>\n",
       "      <td>2017-07-24 00:58:23</td>\n",
       "      <td>2017-07-23</td>\n",
       "      <td>google</td>\n",
       "      <td>organic</td>\n",
       "      <td>NaN</td>\n",
       "      <td>0</td>\n",
       "    </tr>\n",
       "    <tr>\n",
       "      <th>1546</th>\n",
       "      <td>599110551792149234</td>\n",
       "      <td>4</td>\n",
       "      <td>1500851005</td>\n",
       "      <td>2017-07-23 23:03:25</td>\n",
       "      <td>2017-07-23</td>\n",
       "      <td>(direct)</td>\n",
       "      <td>(none)</td>\n",
       "      <td>NaN</td>\n",
       "      <td>0</td>\n",
       "    </tr>\n",
       "  </tbody>\n",
       "</table>\n",
       "</div>"
      ],
      "text/plain": [
       "            fullVisitorId  visitNumber     visitId      visitStartTime  \\\n",
       "9     9973665079624172058            1  1500870192 2017-07-24 04:23:12   \n",
       "574   3563510904717248245            3  1500853402 2017-07-23 23:43:22   \n",
       "1381   190492934318255272            6  1500860330 2017-07-24 01:38:50   \n",
       "1382  5322397769480961983            4  1500857903 2017-07-24 00:58:23   \n",
       "1546   599110551792149234            4  1500851005 2017-07-23 23:03:25   \n",
       "\n",
       "           date    source   medium transactionId  is_transaction  \n",
       "9    2017-07-23  (direct)   (none)           NaN               0  \n",
       "574  2017-07-23    google  organic           NaN               0  \n",
       "1381 2017-07-23    google  organic           NaN               0  \n",
       "1382 2017-07-23    google  organic           NaN               0  \n",
       "1546 2017-07-23  (direct)   (none)           NaN               0  "
      ]
     },
     "execution_count": 14,
     "metadata": {},
     "output_type": "execute_result"
    }
   ],
   "source": [
    "df_fin = df_good.query('fullVisitorId in @good_visitors_2')\n",
    "print(f'Длина итоговой таблицы для анализа: {len(df_fin)}', end='\\n\\n')\n",
    "print(f'Количество транзакций в таблице: {df_fin[\"transactionId\"].count()}')\n",
    "print(f'Уникальных пользователей в таблице: {df_fin[\"fullVisitorId\"].nunique()}')\n",
    "df_fin.head()"
   ]
  },
  {
   "cell_type": "markdown",
   "id": "12dca836",
   "metadata": {},
   "source": [
    "### Источники"
   ]
  },
  {
   "cell_type": "code",
   "execution_count": 15,
   "id": "2a452304",
   "metadata": {},
   "outputs": [
    {
     "data": {
      "text/plain": [
       "(direct)            542\n",
       "google              405\n",
       "sites.google.com     10\n",
       "mail.google.com       5\n",
       "youtube.com           4\n",
       "Name: source, dtype: int64"
      ]
     },
     "execution_count": 15,
     "metadata": {},
     "output_type": "execute_result"
    }
   ],
   "source": [
    "df_fin['source'].value_counts()"
   ]
  },
  {
   "cell_type": "markdown",
   "id": "8c34ec24",
   "metadata": {},
   "source": [
    "Удалим окончание `.com` из названия источника, а также скобки при прямом заходе."
   ]
  },
  {
   "cell_type": "code",
   "execution_count": 16,
   "id": "086595e2",
   "metadata": {},
   "outputs": [
    {
     "data": {
      "text/plain": [
       "direct          542\n",
       "google          405\n",
       "sites.google     10\n",
       "mail.google       5\n",
       "youtube           4\n",
       "Name: source, dtype: int64"
      ]
     },
     "execution_count": 16,
     "metadata": {},
     "output_type": "execute_result"
    }
   ],
   "source": [
    "df_fin['source'] = df_fin['source'].apply(lambda x:  re.sub('(\\.com$)', '', x))\n",
    "df_fin['source'] = df_fin['source'].replace('(direct)', 'direct')\n",
    "df_fin['source'].value_counts()"
   ]
  },
  {
   "cell_type": "code",
   "execution_count": 17,
   "id": "18edf4fb",
   "metadata": {},
   "outputs": [
    {
     "data": {
      "text/plain": [
       "(none)      542\n",
       "organic     329\n",
       "cpc          60\n",
       "referral     19\n",
       "cpm          16\n",
       "Name: medium, dtype: int64"
      ]
     },
     "execution_count": 17,
     "metadata": {},
     "output_type": "execute_result"
    }
   ],
   "source": [
    "df_fin['medium'].value_counts()"
   ]
  },
  {
   "cell_type": "markdown",
   "id": "b7bbb1ce",
   "metadata": {},
   "source": [
    "Тоже удалим скобки для прямых заходов."
   ]
  },
  {
   "cell_type": "code",
   "execution_count": 18,
   "id": "28823f4e",
   "metadata": {},
   "outputs": [
    {
     "data": {
      "text/plain": [
       "none        542\n",
       "organic     329\n",
       "cpc          60\n",
       "referral     19\n",
       "cpm          16\n",
       "Name: medium, dtype: int64"
      ]
     },
     "execution_count": 18,
     "metadata": {},
     "output_type": "execute_result"
    }
   ],
   "source": [
    "df_fin['medium'] = df_fin['medium'].replace('(none)', 'none')\n",
    "df_fin['medium'].value_counts()"
   ]
  },
  {
   "cell_type": "markdown",
   "id": "62b3de0a",
   "metadata": {},
   "source": [
    "Добавим колонку с объединенными source и medium составляющими источника."
   ]
  },
  {
   "cell_type": "code",
   "execution_count": 19,
   "id": "526de344",
   "metadata": {},
   "outputs": [
    {
     "data": {
      "text/plain": [
       "direct_none              542\n",
       "google_organic           329\n",
       "google_cpc                60\n",
       "google_cpm                16\n",
       "sites.google_referral     10\n",
       "mail.google_referral       5\n",
       "youtube_referral           4\n",
       "Name: source_medium, dtype: int64"
      ]
     },
     "execution_count": 19,
     "metadata": {},
     "output_type": "execute_result"
    }
   ],
   "source": [
    "df_fin['source_medium'] = df_fin['source'] + '_' + df_fin['medium']\n",
    "df_fin['source_medium'].value_counts()"
   ]
  },
  {
   "cell_type": "markdown",
   "id": "25af3f12",
   "metadata": {},
   "source": [
    "Видим, что чаще всего источником визита был прямой заход, а не по размеченным источникам."
   ]
  },
  {
   "cell_type": "code",
   "execution_count": 20,
   "id": "1763a4e9",
   "metadata": {},
   "outputs": [
    {
     "data": {
      "text/html": [
       "<div>\n",
       "<style scoped>\n",
       "    .dataframe tbody tr th:only-of-type {\n",
       "        vertical-align: middle;\n",
       "    }\n",
       "\n",
       "    .dataframe tbody tr th {\n",
       "        vertical-align: top;\n",
       "    }\n",
       "\n",
       "    .dataframe thead th {\n",
       "        text-align: right;\n",
       "    }\n",
       "</style>\n",
       "<table border=\"1\" class=\"dataframe\">\n",
       "  <thead>\n",
       "    <tr style=\"text-align: right;\">\n",
       "      <th></th>\n",
       "      <th>fullVisitorId</th>\n",
       "      <th>visitNumber</th>\n",
       "      <th>visitId</th>\n",
       "      <th>visitStartTime</th>\n",
       "      <th>date</th>\n",
       "      <th>source</th>\n",
       "      <th>medium</th>\n",
       "      <th>transactionId</th>\n",
       "      <th>is_transaction</th>\n",
       "      <th>source_medium</th>\n",
       "    </tr>\n",
       "  </thead>\n",
       "  <tbody>\n",
       "    <tr>\n",
       "      <th>33023</th>\n",
       "      <td>0047078955120420928</td>\n",
       "      <td>1</td>\n",
       "      <td>1501541991</td>\n",
       "      <td>2017-07-31 22:59:51</td>\n",
       "      <td>2017-07-31</td>\n",
       "      <td>direct</td>\n",
       "      <td>none</td>\n",
       "      <td>NaN</td>\n",
       "      <td>0</td>\n",
       "      <td>direct_none</td>\n",
       "    </tr>\n",
       "    <tr>\n",
       "      <th>33024</th>\n",
       "      <td>0047078955120420928</td>\n",
       "      <td>1</td>\n",
       "      <td>1501541991</td>\n",
       "      <td>2017-07-31 22:59:51</td>\n",
       "      <td>2017-07-31</td>\n",
       "      <td>direct</td>\n",
       "      <td>none</td>\n",
       "      <td>ORD201707312556</td>\n",
       "      <td>1</td>\n",
       "      <td>direct_none</td>\n",
       "    </tr>\n",
       "    <tr>\n",
       "      <th>25246</th>\n",
       "      <td>0082806901961150595</td>\n",
       "      <td>1</td>\n",
       "      <td>1501008172</td>\n",
       "      <td>2017-07-25 18:42:52</td>\n",
       "      <td>2017-07-25</td>\n",
       "      <td>direct</td>\n",
       "      <td>none</td>\n",
       "      <td>NaN</td>\n",
       "      <td>0</td>\n",
       "      <td>direct_none</td>\n",
       "    </tr>\n",
       "    <tr>\n",
       "      <th>25247</th>\n",
       "      <td>0082806901961150595</td>\n",
       "      <td>1</td>\n",
       "      <td>1501008172</td>\n",
       "      <td>2017-07-25 18:42:52</td>\n",
       "      <td>2017-07-25</td>\n",
       "      <td>direct</td>\n",
       "      <td>none</td>\n",
       "      <td>ORD201707252631</td>\n",
       "      <td>1</td>\n",
       "      <td>direct_none</td>\n",
       "    </tr>\n",
       "    <tr>\n",
       "      <th>11995</th>\n",
       "      <td>024507252193437459</td>\n",
       "      <td>1</td>\n",
       "      <td>1501250419</td>\n",
       "      <td>2017-07-28 14:00:19</td>\n",
       "      <td>2017-07-28</td>\n",
       "      <td>direct</td>\n",
       "      <td>none</td>\n",
       "      <td>NaN</td>\n",
       "      <td>0</td>\n",
       "      <td>direct_none</td>\n",
       "    </tr>\n",
       "  </tbody>\n",
       "</table>\n",
       "</div>"
      ],
      "text/plain": [
       "             fullVisitorId  visitNumber     visitId      visitStartTime  \\\n",
       "33023  0047078955120420928            1  1501541991 2017-07-31 22:59:51   \n",
       "33024  0047078955120420928            1  1501541991 2017-07-31 22:59:51   \n",
       "25246  0082806901961150595            1  1501008172 2017-07-25 18:42:52   \n",
       "25247  0082806901961150595            1  1501008172 2017-07-25 18:42:52   \n",
       "11995   024507252193437459            1  1501250419 2017-07-28 14:00:19   \n",
       "\n",
       "            date  source medium    transactionId  is_transaction source_medium  \n",
       "33023 2017-07-31  direct   none              NaN               0   direct_none  \n",
       "33024 2017-07-31  direct   none  ORD201707312556               1   direct_none  \n",
       "25246 2017-07-25  direct   none              NaN               0   direct_none  \n",
       "25247 2017-07-25  direct   none  ORD201707252631               1   direct_none  \n",
       "11995 2017-07-28  direct   none              NaN               0   direct_none  "
      ]
     },
     "execution_count": 20,
     "metadata": {},
     "output_type": "execute_result"
    }
   ],
   "source": [
    "df_fin = df_fin.sort_values(['fullVisitorId', 'visitStartTime'])\n",
    "df_fin.head()"
   ]
  },
  {
   "cell_type": "markdown",
   "id": "31bf3e11",
   "metadata": {},
   "source": [
    "##### Вывод:\n",
    "- Подготовлен финальный датасет для анализа источников транзакций\n",
    "- В нем 966 строк и 297 транзакций \n",
    "- 286 уникальных пользователей, то есть имеются пользователи, совершившие не одну транзакцию \n",
    "- Самым популярным источником визита является прямой заход."
   ]
  },
  {
   "cell_type": "markdown",
   "id": "153c2e59",
   "metadata": {},
   "source": [
    "## Определение цепочек для транзакций"
   ]
  },
  {
   "cell_type": "markdown",
   "id": "93721769",
   "metadata": {},
   "source": [
    "Составим таблицу, где для каждого пользователя, визита и транзакции будет указан источник без дубликатов."
   ]
  },
  {
   "cell_type": "code",
   "execution_count": 21,
   "id": "d986ecae",
   "metadata": {},
   "outputs": [
    {
     "data": {
      "text/html": [
       "<div>\n",
       "<style scoped>\n",
       "    .dataframe tbody tr th:only-of-type {\n",
       "        vertical-align: middle;\n",
       "    }\n",
       "\n",
       "    .dataframe tbody tr th {\n",
       "        vertical-align: top;\n",
       "    }\n",
       "\n",
       "    .dataframe thead th {\n",
       "        text-align: right;\n",
       "    }\n",
       "</style>\n",
       "<table border=\"1\" class=\"dataframe\">\n",
       "  <thead>\n",
       "    <tr style=\"text-align: right;\">\n",
       "      <th></th>\n",
       "      <th>fullVisitorId</th>\n",
       "      <th>visitNumber</th>\n",
       "      <th>source_medium</th>\n",
       "      <th>transactionId</th>\n",
       "      <th>is_transaction</th>\n",
       "    </tr>\n",
       "  </thead>\n",
       "  <tbody>\n",
       "    <tr>\n",
       "      <th>0</th>\n",
       "      <td>0047078955120420928</td>\n",
       "      <td>1</td>\n",
       "      <td>direct_none</td>\n",
       "      <td>ORD201707312556</td>\n",
       "      <td>1</td>\n",
       "    </tr>\n",
       "    <tr>\n",
       "      <th>1</th>\n",
       "      <td>0082806901961150595</td>\n",
       "      <td>1</td>\n",
       "      <td>direct_none</td>\n",
       "      <td>ORD201707252631</td>\n",
       "      <td>1</td>\n",
       "    </tr>\n",
       "    <tr>\n",
       "      <th>2</th>\n",
       "      <td>024507252193437459</td>\n",
       "      <td>1</td>\n",
       "      <td>direct_none</td>\n",
       "      <td>NaN</td>\n",
       "      <td>0</td>\n",
       "    </tr>\n",
       "    <tr>\n",
       "      <th>3</th>\n",
       "      <td>024507252193437459</td>\n",
       "      <td>2</td>\n",
       "      <td>direct_none</td>\n",
       "      <td>NaN</td>\n",
       "      <td>0</td>\n",
       "    </tr>\n",
       "    <tr>\n",
       "      <th>4</th>\n",
       "      <td>024507252193437459</td>\n",
       "      <td>3</td>\n",
       "      <td>mail.google_referral</td>\n",
       "      <td>ORD201708012322</td>\n",
       "      <td>1</td>\n",
       "    </tr>\n",
       "  </tbody>\n",
       "</table>\n",
       "</div>"
      ],
      "text/plain": [
       "         fullVisitorId  visitNumber         source_medium    transactionId  \\\n",
       "0  0047078955120420928            1           direct_none  ORD201707312556   \n",
       "1  0082806901961150595            1           direct_none  ORD201707252631   \n",
       "2   024507252193437459            1           direct_none              NaN   \n",
       "3   024507252193437459            2           direct_none              NaN   \n",
       "4   024507252193437459            3  mail.google_referral  ORD201708012322   \n",
       "\n",
       "   is_transaction  \n",
       "0               1  \n",
       "1               1  \n",
       "2               0  \n",
       "3               0  \n",
       "4               1  "
      ]
     },
     "execution_count": 21,
     "metadata": {},
     "output_type": "execute_result"
    }
   ],
   "source": [
    "# уникальные номера визитов для пользователя\n",
    "visit_source = df_fin[['fullVisitorId', 'visitNumber', 'source_medium']].drop_duplicates()\n",
    "\n",
    "# уникальные сочетания номера пользователя, номера визита, номера транзакции\n",
    "visit_transactions = df_fin[['fullVisitorId', 'visitNumber',\n",
    "        'transactionId', 'is_transaction']].drop_duplicates()\n",
    "\n",
    "# оставляем для каждого номера визита с транзакцией только запись, где была транзакция \n",
    "# (т.к. источник для каждого визита единственный)\n",
    "visit_transactions = visit_transactions.query('is_transaction == 1')\n",
    "\n",
    "# и соединяем таблицы\n",
    "df_transactions = visit_source.merge(visit_transactions, \n",
    "                                     on=['fullVisitorId', 'visitNumber'], \n",
    "                                     how='left')\n",
    "\n",
    "df_transactions['is_transaction'] = df_transactions['is_transaction'].fillna(0).astype(int)\n",
    "df_transactions.head()"
   ]
  },
  {
   "cell_type": "markdown",
   "id": "0aaad535",
   "metadata": {},
   "source": [
    "Составим списки источников, транзакций для каждого пользователя."
   ]
  },
  {
   "cell_type": "code",
   "execution_count": 22,
   "id": "b94682cf",
   "metadata": {},
   "outputs": [
    {
     "data": {
      "text/html": [
       "<div>\n",
       "<style scoped>\n",
       "    .dataframe tbody tr th:only-of-type {\n",
       "        vertical-align: middle;\n",
       "    }\n",
       "\n",
       "    .dataframe tbody tr th {\n",
       "        vertical-align: top;\n",
       "    }\n",
       "\n",
       "    .dataframe thead th {\n",
       "        text-align: right;\n",
       "    }\n",
       "</style>\n",
       "<table border=\"1\" class=\"dataframe\">\n",
       "  <thead>\n",
       "    <tr style=\"text-align: right;\">\n",
       "      <th></th>\n",
       "      <th>source_medium</th>\n",
       "      <th>transactionId</th>\n",
       "      <th>is_transaction</th>\n",
       "    </tr>\n",
       "    <tr>\n",
       "      <th>fullVisitorId</th>\n",
       "      <th></th>\n",
       "      <th></th>\n",
       "      <th></th>\n",
       "    </tr>\n",
       "  </thead>\n",
       "  <tbody>\n",
       "    <tr>\n",
       "      <th>0047078955120420928</th>\n",
       "      <td>[direct_none]</td>\n",
       "      <td>[ORD201707312556]</td>\n",
       "      <td>[1]</td>\n",
       "    </tr>\n",
       "    <tr>\n",
       "      <th>0082806901961150595</th>\n",
       "      <td>[direct_none]</td>\n",
       "      <td>[ORD201707252631]</td>\n",
       "      <td>[1]</td>\n",
       "    </tr>\n",
       "    <tr>\n",
       "      <th>024507252193437459</th>\n",
       "      <td>[direct_none, direct_none, mail.google_referral]</td>\n",
       "      <td>[nan, nan, ORD201708012322]</td>\n",
       "      <td>[0, 0, 1]</td>\n",
       "    </tr>\n",
       "    <tr>\n",
       "      <th>0249659095832018179</th>\n",
       "      <td>[direct_none]</td>\n",
       "      <td>[ORD201707242363]</td>\n",
       "      <td>[1]</td>\n",
       "    </tr>\n",
       "    <tr>\n",
       "      <th>0316080058721038988</th>\n",
       "      <td>[google_cpm, google_organic, google_organic]</td>\n",
       "      <td>[nan, ORD201707192364, nan]</td>\n",
       "      <td>[0, 1, 0]</td>\n",
       "    </tr>\n",
       "  </tbody>\n",
       "</table>\n",
       "</div>"
      ],
      "text/plain": [
       "                                                        source_medium  \\\n",
       "fullVisitorId                                                           \n",
       "0047078955120420928                                     [direct_none]   \n",
       "0082806901961150595                                     [direct_none]   \n",
       "024507252193437459   [direct_none, direct_none, mail.google_referral]   \n",
       "0249659095832018179                                     [direct_none]   \n",
       "0316080058721038988      [google_cpm, google_organic, google_organic]   \n",
       "\n",
       "                                   transactionId is_transaction  \n",
       "fullVisitorId                                                    \n",
       "0047078955120420928            [ORD201707312556]            [1]  \n",
       "0082806901961150595            [ORD201707252631]            [1]  \n",
       "024507252193437459   [nan, nan, ORD201708012322]      [0, 0, 1]  \n",
       "0249659095832018179            [ORD201707242363]            [1]  \n",
       "0316080058721038988  [nan, ORD201707192364, nan]      [0, 1, 0]  "
      ]
     },
     "execution_count": 22,
     "metadata": {},
     "output_type": "execute_result"
    }
   ],
   "source": [
    "df_grouped_transactions = (df_transactions\n",
    "                           .groupby('fullVisitorId')\n",
    "                           .agg({'source_medium': lambda x: list(x), \n",
    "                                 'transactionId': lambda x: list(x),\n",
    "                                 'is_transaction': lambda x: list(x)}))\n",
    "\n",
    "df_grouped_transactions.head()"
   ]
  },
  {
   "cell_type": "markdown",
   "id": "c28cbef2",
   "metadata": {},
   "source": [
    "Добавим поле `N_of_visit` с индексом транзакции"
   ]
  },
  {
   "cell_type": "code",
   "execution_count": 23,
   "id": "5626d49b",
   "metadata": {},
   "outputs": [
    {
     "data": {
      "text/plain": [
       "[0]             176\n",
       "[1]              55\n",
       "[2]              22\n",
       "[3]              13\n",
       "[4]               5\n",
       "[5]               3\n",
       "[7]               3\n",
       "[0, 1]            1\n",
       "[1, 7]            1\n",
       "[0, 1, 2, 3]      1\n",
       "[1, 2, 4]         1\n",
       "[2, 3]            1\n",
       "[0, 1]            1\n",
       "[16]              1\n",
       "[0, 1]            1\n",
       "[4, 5]            1\n",
       "Name: N_of_visit, dtype: int64"
      ]
     },
     "execution_count": 23,
     "metadata": {},
     "output_type": "execute_result"
    }
   ],
   "source": [
    "df_grouped_transactions['N_of_visit'] = (df_grouped_transactions['is_transaction']\n",
    "                                         .apply(lambda x: np.where(np.array(x) == 1)[0]))\n",
    "\n",
    "df_grouped_transactions['N_of_visit'].value_counts()"
   ]
  },
  {
   "cell_type": "markdown",
   "id": "9353c376",
   "metadata": {},
   "source": [
    "Чаще всего транзация совершалась в первый визит (индекс=0)."
   ]
  },
  {
   "cell_type": "code",
   "execution_count": 24,
   "id": "7934581d",
   "metadata": {},
   "outputs": [
    {
     "data": {
      "text/html": [
       "<div>\n",
       "<style scoped>\n",
       "    .dataframe tbody tr th:only-of-type {\n",
       "        vertical-align: middle;\n",
       "    }\n",
       "\n",
       "    .dataframe tbody tr th {\n",
       "        vertical-align: top;\n",
       "    }\n",
       "\n",
       "    .dataframe thead th {\n",
       "        text-align: right;\n",
       "    }\n",
       "</style>\n",
       "<table border=\"1\" class=\"dataframe\">\n",
       "  <thead>\n",
       "    <tr style=\"text-align: right;\">\n",
       "      <th></th>\n",
       "      <th>visitNumber</th>\n",
       "      <th>%_of_all</th>\n",
       "    </tr>\n",
       "  </thead>\n",
       "  <tbody>\n",
       "    <tr>\n",
       "      <th>1</th>\n",
       "      <td>180</td>\n",
       "      <td>60.6</td>\n",
       "    </tr>\n",
       "    <tr>\n",
       "      <th>2</th>\n",
       "      <td>61</td>\n",
       "      <td>20.5</td>\n",
       "    </tr>\n",
       "    <tr>\n",
       "      <th>3</th>\n",
       "      <td>24</td>\n",
       "      <td>8.1</td>\n",
       "    </tr>\n",
       "    <tr>\n",
       "      <th>4</th>\n",
       "      <td>14</td>\n",
       "      <td>4.7</td>\n",
       "    </tr>\n",
       "    <tr>\n",
       "      <th>5</th>\n",
       "      <td>7</td>\n",
       "      <td>2.4</td>\n",
       "    </tr>\n",
       "    <tr>\n",
       "      <th>6</th>\n",
       "      <td>6</td>\n",
       "      <td>2.0</td>\n",
       "    </tr>\n",
       "    <tr>\n",
       "      <th>8</th>\n",
       "      <td>4</td>\n",
       "      <td>1.3</td>\n",
       "    </tr>\n",
       "    <tr>\n",
       "      <th>17</th>\n",
       "      <td>1</td>\n",
       "      <td>0.3</td>\n",
       "    </tr>\n",
       "  </tbody>\n",
       "</table>\n",
       "</div>"
      ],
      "text/plain": [
       "    visitNumber  %_of_all\n",
       "1           180      60.6\n",
       "2            61      20.5\n",
       "3            24       8.1\n",
       "4            14       4.7\n",
       "5             7       2.4\n",
       "6             6       2.0\n",
       "8             4       1.3\n",
       "17            1       0.3"
      ]
     },
     "execution_count": 24,
     "metadata": {},
     "output_type": "execute_result"
    }
   ],
   "source": [
    "visits_rating = df_fin.query('is_transaction == 1')['visitNumber'].value_counts().to_frame()\n",
    "visits_rating['%_of_all'] = round(visits_rating['visitNumber'] * 100 / visits_rating['visitNumber'].sum(), 1)\n",
    "visits_rating"
   ]
  },
  {
   "cell_type": "markdown",
   "id": "1e6288e8",
   "metadata": {},
   "source": [
    "Добавим поля для дальнейшей обработки."
   ]
  },
  {
   "cell_type": "code",
   "execution_count": 25,
   "id": "d971c3a9",
   "metadata": {},
   "outputs": [
    {
     "data": {
      "text/html": [
       "<div>\n",
       "<style scoped>\n",
       "    .dataframe tbody tr th:only-of-type {\n",
       "        vertical-align: middle;\n",
       "    }\n",
       "\n",
       "    .dataframe tbody tr th {\n",
       "        vertical-align: top;\n",
       "    }\n",
       "\n",
       "    .dataframe thead th {\n",
       "        text-align: right;\n",
       "    }\n",
       "</style>\n",
       "<table border=\"1\" class=\"dataframe\">\n",
       "  <thead>\n",
       "    <tr style=\"text-align: right;\">\n",
       "      <th></th>\n",
       "      <th>source_medium</th>\n",
       "      <th>transactionId</th>\n",
       "      <th>is_transaction</th>\n",
       "      <th>N_of_visit</th>\n",
       "      <th>list_source</th>\n",
       "      <th>list_transactions</th>\n",
       "      <th>source_short</th>\n",
       "    </tr>\n",
       "    <tr>\n",
       "      <th>fullVisitorId</th>\n",
       "      <th></th>\n",
       "      <th></th>\n",
       "      <th></th>\n",
       "      <th></th>\n",
       "      <th></th>\n",
       "      <th></th>\n",
       "      <th></th>\n",
       "    </tr>\n",
       "  </thead>\n",
       "  <tbody>\n",
       "    <tr>\n",
       "      <th>0047078955120420928</th>\n",
       "      <td>[direct_none]</td>\n",
       "      <td>[ORD201707312556]</td>\n",
       "      <td>[1]</td>\n",
       "      <td>[0]</td>\n",
       "      <td>[[direct_none]]</td>\n",
       "      <td>[ORD201707312556]</td>\n",
       "      <td>[[]]</td>\n",
       "    </tr>\n",
       "    <tr>\n",
       "      <th>0082806901961150595</th>\n",
       "      <td>[direct_none]</td>\n",
       "      <td>[ORD201707252631]</td>\n",
       "      <td>[1]</td>\n",
       "      <td>[0]</td>\n",
       "      <td>[[direct_none]]</td>\n",
       "      <td>[ORD201707252631]</td>\n",
       "      <td>[[]]</td>\n",
       "    </tr>\n",
       "    <tr>\n",
       "      <th>024507252193437459</th>\n",
       "      <td>[direct_none, direct_none, mail.google_referral]</td>\n",
       "      <td>[nan, nan, ORD201708012322]</td>\n",
       "      <td>[0, 0, 1]</td>\n",
       "      <td>[2]</td>\n",
       "      <td>[[direct_none, direct_none, mail.google_referral]]</td>\n",
       "      <td>[ORD201708012322]</td>\n",
       "      <td>[[mail.google_referral]]</td>\n",
       "    </tr>\n",
       "    <tr>\n",
       "      <th>0249659095832018179</th>\n",
       "      <td>[direct_none]</td>\n",
       "      <td>[ORD201707242363]</td>\n",
       "      <td>[1]</td>\n",
       "      <td>[0]</td>\n",
       "      <td>[[direct_none]]</td>\n",
       "      <td>[ORD201707242363]</td>\n",
       "      <td>[[]]</td>\n",
       "    </tr>\n",
       "    <tr>\n",
       "      <th>0316080058721038988</th>\n",
       "      <td>[google_cpm, google_organic, google_organic]</td>\n",
       "      <td>[nan, ORD201707192364, nan]</td>\n",
       "      <td>[0, 1, 0]</td>\n",
       "      <td>[1]</td>\n",
       "      <td>[[google_cpm, google_organic]]</td>\n",
       "      <td>[ORD201707192364]</td>\n",
       "      <td>[[google_cpm, google_organic]]</td>\n",
       "    </tr>\n",
       "  </tbody>\n",
       "</table>\n",
       "</div>"
      ],
      "text/plain": [
       "                                                        source_medium  \\\n",
       "fullVisitorId                                                           \n",
       "0047078955120420928                                     [direct_none]   \n",
       "0082806901961150595                                     [direct_none]   \n",
       "024507252193437459   [direct_none, direct_none, mail.google_referral]   \n",
       "0249659095832018179                                     [direct_none]   \n",
       "0316080058721038988      [google_cpm, google_organic, google_organic]   \n",
       "\n",
       "                                   transactionId is_transaction N_of_visit  \\\n",
       "fullVisitorId                                                                \n",
       "0047078955120420928            [ORD201707312556]            [1]        [0]   \n",
       "0082806901961150595            [ORD201707252631]            [1]        [0]   \n",
       "024507252193437459   [nan, nan, ORD201708012322]      [0, 0, 1]        [2]   \n",
       "0249659095832018179            [ORD201707242363]            [1]        [0]   \n",
       "0316080058721038988  [nan, ORD201707192364, nan]      [0, 1, 0]        [1]   \n",
       "\n",
       "                                                            list_source  \\\n",
       "fullVisitorId                                                             \n",
       "0047078955120420928                                     [[direct_none]]   \n",
       "0082806901961150595                                     [[direct_none]]   \n",
       "024507252193437459   [[direct_none, direct_none, mail.google_referral]]   \n",
       "0249659095832018179                                     [[direct_none]]   \n",
       "0316080058721038988                      [[google_cpm, google_organic]]   \n",
       "\n",
       "                     list_transactions                    source_short  \n",
       "fullVisitorId                                                           \n",
       "0047078955120420928  [ORD201707312556]                            [[]]  \n",
       "0082806901961150595  [ORD201707252631]                            [[]]  \n",
       "024507252193437459   [ORD201708012322]        [[mail.google_referral]]  \n",
       "0249659095832018179  [ORD201707242363]                            [[]]  \n",
       "0316080058721038988  [ORD201707192364]  [[google_cpm, google_organic]]  "
      ]
     },
     "execution_count": 25,
     "metadata": {},
     "output_type": "execute_result"
    }
   ],
   "source": [
    "# Список цепочек источников для каждой транзакции (если у пользователя было 2 транзакции, то\n",
    "# в списке будет 2 цепочки)\n",
    "df_grouped_transactions['list_source'] = (df_grouped_transactions\n",
    "                                          .apply(lambda x: \n",
    "        [x['source_medium'][:x['N_of_visit'][i] + 1] for i in range(len(x['N_of_visit']))], axis=1))\n",
    "\n",
    "# Список транзакций\n",
    "df_grouped_transactions['list_transactions'] = (df_grouped_transactions\n",
    "                                                .apply(lambda x: \n",
    "        [x['transactionId'][x['N_of_visit'][i]] for i in range(len(x['N_of_visit']))], axis=1))\n",
    "\n",
    "# Список из идущих подряд уникальных источников и без прямых заходов\n",
    "df_grouped_transactions['source_short'] = (df_grouped_transactions\n",
    "                                         .apply(lambda x: \n",
    "        [list(filter(lambda y: y != 'direct_none', \n",
    "                     [x['list_source'][j][i] for i in range(len(x['list_source'][j])) \n",
    "          if i == 0 or (i > 0 and x['list_source'][j][i] != x['list_source'][j][i-1])\n",
    "         ]))\n",
    "         for j in range(len(x['N_of_visit']))\n",
    "         \n",
    "        ], axis=1))\n",
    "                                         \n",
    "df_grouped_transactions.head()                            "
   ]
  },
  {
   "cell_type": "code",
   "execution_count": 26,
   "id": "0ea06a34",
   "metadata": {},
   "outputs": [
    {
     "data": {
      "text/html": [
       "<div>\n",
       "<style scoped>\n",
       "    .dataframe tbody tr th:only-of-type {\n",
       "        vertical-align: middle;\n",
       "    }\n",
       "\n",
       "    .dataframe tbody tr th {\n",
       "        vertical-align: top;\n",
       "    }\n",
       "\n",
       "    .dataframe thead th {\n",
       "        text-align: right;\n",
       "    }\n",
       "</style>\n",
       "<table border=\"1\" class=\"dataframe\">\n",
       "  <thead>\n",
       "    <tr style=\"text-align: right;\">\n",
       "      <th></th>\n",
       "      <th>source_medium</th>\n",
       "      <th>transactionId</th>\n",
       "      <th>is_transaction</th>\n",
       "      <th>N_of_visit</th>\n",
       "      <th>list_source</th>\n",
       "      <th>list_transactions</th>\n",
       "      <th>source_short</th>\n",
       "    </tr>\n",
       "    <tr>\n",
       "      <th>fullVisitorId</th>\n",
       "      <th></th>\n",
       "      <th></th>\n",
       "      <th></th>\n",
       "      <th></th>\n",
       "      <th></th>\n",
       "      <th></th>\n",
       "      <th></th>\n",
       "    </tr>\n",
       "  </thead>\n",
       "  <tbody>\n",
       "    <tr>\n",
       "      <th>4042880551685271731</th>\n",
       "      <td>[direct_none, direct_none]</td>\n",
       "      <td>[ORD201707202545, ORD201707202429]</td>\n",
       "      <td>[1, 1]</td>\n",
       "      <td>[0, 1]</td>\n",
       "      <td>[[direct_none], [direct_none, direct_none]]</td>\n",
       "      <td>[ORD201707202545, ORD201707202429]</td>\n",
       "      <td>[[], []]</td>\n",
       "    </tr>\n",
       "    <tr>\n",
       "      <th>4376572204985925602</th>\n",
       "      <td>[google_organic, google_organic, google_organic, google_organic, google_organic, google_organic, google_organic, google_organic, google_organic, google_organic, google_organic, google_organic, google_organic, google_organic, google_organic, google_organic, google_organic, google_organic, google_organic, google_organic]</td>\n",
       "      <td>[nan, ORD201707192493, nan, nan, nan, nan, nan, ORD201707192400, nan, nan, nan, nan, nan, nan, nan, nan, nan, nan, nan, nan]</td>\n",
       "      <td>[0, 1, 0, 0, 0, 0, 0, 1, 0, 0, 0, 0, 0, 0, 0, 0, 0, 0, 0, 0]</td>\n",
       "      <td>[1, 7]</td>\n",
       "      <td>[[google_organic, google_organic], [google_organic, google_organic, google_organic, google_organic, google_organic, google_organic, google_organic, google_organic]]</td>\n",
       "      <td>[ORD201707192493, ORD201707192400]</td>\n",
       "      <td>[[google_organic], [google_organic]]</td>\n",
       "    </tr>\n",
       "  </tbody>\n",
       "</table>\n",
       "</div>"
      ],
      "text/plain": [
       "                                                                                                                                                                                                                                                                                                                                        source_medium  \\\n",
       "fullVisitorId                                                                                                                                                                                                                                                                                                                                           \n",
       "4042880551685271731                                                                                                                                                                                                                                                                                                        [direct_none, direct_none]   \n",
       "4376572204985925602  [google_organic, google_organic, google_organic, google_organic, google_organic, google_organic, google_organic, google_organic, google_organic, google_organic, google_organic, google_organic, google_organic, google_organic, google_organic, google_organic, google_organic, google_organic, google_organic, google_organic]   \n",
       "\n",
       "                                                                                                                                    transactionId  \\\n",
       "fullVisitorId                                                                                                                                       \n",
       "4042880551685271731                                                                                            [ORD201707202545, ORD201707202429]   \n",
       "4376572204985925602  [nan, ORD201707192493, nan, nan, nan, nan, nan, ORD201707192400, nan, nan, nan, nan, nan, nan, nan, nan, nan, nan, nan, nan]   \n",
       "\n",
       "                                                                   is_transaction  \\\n",
       "fullVisitorId                                                                       \n",
       "4042880551685271731                                                        [1, 1]   \n",
       "4376572204985925602  [0, 1, 0, 0, 0, 0, 0, 1, 0, 0, 0, 0, 0, 0, 0, 0, 0, 0, 0, 0]   \n",
       "\n",
       "                    N_of_visit  \\\n",
       "fullVisitorId                    \n",
       "4042880551685271731     [0, 1]   \n",
       "4376572204985925602     [1, 7]   \n",
       "\n",
       "                                                                                                                                                                              list_source  \\\n",
       "fullVisitorId                                                                                                                                                                               \n",
       "4042880551685271731                                                                                                                           [[direct_none], [direct_none, direct_none]]   \n",
       "4376572204985925602  [[google_organic, google_organic], [google_organic, google_organic, google_organic, google_organic, google_organic, google_organic, google_organic, google_organic]]   \n",
       "\n",
       "                                      list_transactions  \\\n",
       "fullVisitorId                                             \n",
       "4042880551685271731  [ORD201707202545, ORD201707202429]   \n",
       "4376572204985925602  [ORD201707192493, ORD201707192400]   \n",
       "\n",
       "                                             source_short  \n",
       "fullVisitorId                                              \n",
       "4042880551685271731                              [[], []]  \n",
       "4376572204985925602  [[google_organic], [google_organic]]  "
      ]
     },
     "execution_count": 26,
     "metadata": {},
     "output_type": "execute_result"
    }
   ],
   "source": [
    "df_grouped_transactions.query('list_transactions.str.len() > 1').head(2)"
   ]
  },
  {
   "cell_type": "markdown",
   "id": "e04ad5ee",
   "metadata": {},
   "source": [
    "Например, у пользователей `4042880551685271731` и `4376572204985925602` было по 2 транзакции. У первого пользователя транзакция была в первый и второй визит, у второго - во второй и восьмой.\n",
    "\n",
    "В колонке `list_transactions` перечислены номера транзакций. \n",
    "\n",
    "В колонке `list_source` для каждой транзакции список источников захода. Например, для второй транзакции второго пользователя считаем цепочку источников с самого первого визита, и у него будет цепочка из 8 касаний.\n",
    "\n",
    "Поскольку в итоге нас интересуют размеченные заходы и топ цепочек, будем считать, что несколько переходов подряд с одного источника можно сложить в один переход (неважно, сколько раз подряд пользователь перешел с одного и того же источника). Поэтому в колонке `source_short` оставлены только уникальные источники для каждой транзакции (если первая и вторая одинаковые - считаем за один источник) и удалены прямые заходы. "
   ]
  },
  {
   "cell_type": "code",
   "execution_count": 27,
   "id": "28828efa",
   "metadata": {},
   "outputs": [],
   "source": [
    "list_transactions = df_grouped_transactions['list_transactions'].to_list()\n",
    "list_sources = df_grouped_transactions['list_source'].to_list()\n",
    "\n",
    "transactions_tuple = [(list_transactions[j][i], ' => '.join(list_sources[j][i])) \n",
    "                      for j in range(len(list_transactions)) for i in range(len(list_transactions[j]))]\n",
    "\n",
    "transactions_dict = dict(transactions_tuple)"
   ]
  },
  {
   "cell_type": "markdown",
   "id": "8f470878",
   "metadata": {},
   "source": [
    "Итоговая таблица `transactions_chain` с цепочкой касаний для каждой транзакции."
   ]
  },
  {
   "cell_type": "code",
   "execution_count": 28,
   "id": "509628bd",
   "metadata": {},
   "outputs": [
    {
     "data": {
      "text/html": [
       "<div>\n",
       "<style scoped>\n",
       "    .dataframe tbody tr th:only-of-type {\n",
       "        vertical-align: middle;\n",
       "    }\n",
       "\n",
       "    .dataframe tbody tr th {\n",
       "        vertical-align: top;\n",
       "    }\n",
       "\n",
       "    .dataframe thead th {\n",
       "        text-align: right;\n",
       "    }\n",
       "</style>\n",
       "<table border=\"1\" class=\"dataframe\">\n",
       "  <thead>\n",
       "    <tr style=\"text-align: right;\">\n",
       "      <th></th>\n",
       "      <th>transactionId</th>\n",
       "      <th>chain</th>\n",
       "    </tr>\n",
       "  </thead>\n",
       "  <tbody>\n",
       "    <tr>\n",
       "      <th>0</th>\n",
       "      <td>ORD201707312556</td>\n",
       "      <td>direct_none</td>\n",
       "    </tr>\n",
       "    <tr>\n",
       "      <th>1</th>\n",
       "      <td>ORD201707252631</td>\n",
       "      <td>direct_none</td>\n",
       "    </tr>\n",
       "    <tr>\n",
       "      <th>2</th>\n",
       "      <td>ORD201708012322</td>\n",
       "      <td>direct_none =&gt; direct_none =&gt; mail.google_referral</td>\n",
       "    </tr>\n",
       "    <tr>\n",
       "      <th>3</th>\n",
       "      <td>ORD201707242363</td>\n",
       "      <td>direct_none</td>\n",
       "    </tr>\n",
       "    <tr>\n",
       "      <th>4</th>\n",
       "      <td>ORD201707192364</td>\n",
       "      <td>google_cpm =&gt; google_organic</td>\n",
       "    </tr>\n",
       "  </tbody>\n",
       "</table>\n",
       "</div>"
      ],
      "text/plain": [
       "     transactionId                                               chain\n",
       "0  ORD201707312556                                         direct_none\n",
       "1  ORD201707252631                                         direct_none\n",
       "2  ORD201708012322  direct_none => direct_none => mail.google_referral\n",
       "3  ORD201707242363                                         direct_none\n",
       "4  ORD201707192364                        google_cpm => google_organic"
      ]
     },
     "execution_count": 28,
     "metadata": {},
     "output_type": "execute_result"
    }
   ],
   "source": [
    "transactions_chain = pd.DataFrame.from_dict(transactions_dict, orient='index').reset_index()\n",
    "transactions_chain.columns = ['transactionId', 'chain']\n",
    "transactions_chain.head()"
   ]
  },
  {
   "cell_type": "code",
   "execution_count": 29,
   "id": "4b84fb1b",
   "metadata": {},
   "outputs": [],
   "source": [
    "list_unique_sources = df_grouped_transactions['source_short'].to_list()\n",
    "\n",
    "transactions_short_tuple = [(list_transactions[j][i], ' => '.join(list_unique_sources[j][i])) \n",
    "                          for j in range(len(list_transactions)) for i in range(len(list_transactions[j])) \n",
    "                          if list_unique_sources[j][i]]\n",
    "transactions_short_dict = dict(transactions_short_tuple)"
   ]
  },
  {
   "cell_type": "markdown",
   "id": "bc20e774",
   "metadata": {},
   "source": [
    "Таблица `transactions_chain_short` с уникальными идущими подряд источниками перехода без прямых заходов"
   ]
  },
  {
   "cell_type": "code",
   "execution_count": 30,
   "id": "788f850c",
   "metadata": {},
   "outputs": [
    {
     "data": {
      "text/html": [
       "<div>\n",
       "<style scoped>\n",
       "    .dataframe tbody tr th:only-of-type {\n",
       "        vertical-align: middle;\n",
       "    }\n",
       "\n",
       "    .dataframe tbody tr th {\n",
       "        vertical-align: top;\n",
       "    }\n",
       "\n",
       "    .dataframe thead th {\n",
       "        text-align: right;\n",
       "    }\n",
       "</style>\n",
       "<table border=\"1\" class=\"dataframe\">\n",
       "  <thead>\n",
       "    <tr style=\"text-align: right;\">\n",
       "      <th></th>\n",
       "      <th>transactionId</th>\n",
       "      <th>chain</th>\n",
       "    </tr>\n",
       "  </thead>\n",
       "  <tbody>\n",
       "    <tr>\n",
       "      <th>0</th>\n",
       "      <td>ORD201708012322</td>\n",
       "      <td>mail.google_referral</td>\n",
       "    </tr>\n",
       "    <tr>\n",
       "      <th>1</th>\n",
       "      <td>ORD201707192364</td>\n",
       "      <td>google_cpm =&gt; google_organic</td>\n",
       "    </tr>\n",
       "    <tr>\n",
       "      <th>2</th>\n",
       "      <td>ORD201707282299</td>\n",
       "      <td>google_organic</td>\n",
       "    </tr>\n",
       "    <tr>\n",
       "      <th>3</th>\n",
       "      <td>ORD201708011814</td>\n",
       "      <td>google_organic</td>\n",
       "    </tr>\n",
       "    <tr>\n",
       "      <th>4</th>\n",
       "      <td>ORD201707262668</td>\n",
       "      <td>google_organic</td>\n",
       "    </tr>\n",
       "  </tbody>\n",
       "</table>\n",
       "</div>"
      ],
      "text/plain": [
       "     transactionId                         chain\n",
       "0  ORD201708012322          mail.google_referral\n",
       "1  ORD201707192364  google_cpm => google_organic\n",
       "2  ORD201707282299                google_organic\n",
       "3  ORD201708011814                google_organic\n",
       "4  ORD201707262668                google_organic"
      ]
     },
     "execution_count": 30,
     "metadata": {},
     "output_type": "execute_result"
    }
   ],
   "source": [
    "transactions_chain_short = pd.DataFrame.from_dict(transactions_short_dict, orient='index').reset_index()\n",
    "transactions_chain_short.columns = ['transactionId', 'chain']\n",
    "transactions_chain_short.head()"
   ]
  },
  {
   "cell_type": "markdown",
   "id": "7a50c1d0",
   "metadata": {},
   "source": [
    "Таблица `top_chain` с самыми популярными цепочками перехода для совершения транзакций. Топ-10 не набралось, потому что исследовался небольшой период."
   ]
  },
  {
   "cell_type": "code",
   "execution_count": 31,
   "id": "caa8aa5d",
   "metadata": {},
   "outputs": [
    {
     "data": {
      "text/html": [
       "<div>\n",
       "<style scoped>\n",
       "    .dataframe tbody tr th:only-of-type {\n",
       "        vertical-align: middle;\n",
       "    }\n",
       "\n",
       "    .dataframe tbody tr th {\n",
       "        vertical-align: top;\n",
       "    }\n",
       "\n",
       "    .dataframe thead th {\n",
       "        text-align: right;\n",
       "    }\n",
       "</style>\n",
       "<table border=\"1\" class=\"dataframe\">\n",
       "  <thead>\n",
       "    <tr style=\"text-align: right;\">\n",
       "      <th></th>\n",
       "      <th>n_chains</th>\n",
       "    </tr>\n",
       "  </thead>\n",
       "  <tbody>\n",
       "    <tr>\n",
       "      <th>google_organic</th>\n",
       "      <td>95</td>\n",
       "    </tr>\n",
       "    <tr>\n",
       "      <th>google_cpc</th>\n",
       "      <td>18</td>\n",
       "    </tr>\n",
       "    <tr>\n",
       "      <th>google_cpm</th>\n",
       "      <td>7</td>\n",
       "    </tr>\n",
       "    <tr>\n",
       "      <th>google_cpc =&gt; google_organic</th>\n",
       "      <td>4</td>\n",
       "    </tr>\n",
       "    <tr>\n",
       "      <th>mail.google_referral</th>\n",
       "      <td>2</td>\n",
       "    </tr>\n",
       "    <tr>\n",
       "      <th>google_cpm =&gt; google_organic</th>\n",
       "      <td>2</td>\n",
       "    </tr>\n",
       "    <tr>\n",
       "      <th>sites.google_referral</th>\n",
       "      <td>2</td>\n",
       "    </tr>\n",
       "    <tr>\n",
       "      <th>youtube_referral</th>\n",
       "      <td>1</td>\n",
       "    </tr>\n",
       "    <tr>\n",
       "      <th>google_organic =&gt; google_cpc =&gt; google_organic</th>\n",
       "      <td>1</td>\n",
       "    </tr>\n",
       "  </tbody>\n",
       "</table>\n",
       "</div>"
      ],
      "text/plain": [
       "                                                n_chains\n",
       "google_organic                                        95\n",
       "google_cpc                                            18\n",
       "google_cpm                                             7\n",
       "google_cpc => google_organic                           4\n",
       "mail.google_referral                                   2\n",
       "google_cpm => google_organic                           2\n",
       "sites.google_referral                                  2\n",
       "youtube_referral                                       1\n",
       "google_organic => google_cpc => google_organic         1"
      ]
     },
     "execution_count": 31,
     "metadata": {},
     "output_type": "execute_result"
    }
   ],
   "source": [
    "top_chain = (transactions_chain_short['chain']\n",
    "             .value_counts()\n",
    "             .to_frame()\n",
    "             .rename(columns={'chain':'n_chains'}))\n",
    "top_chain"
   ]
  },
  {
   "cell_type": "markdown",
   "id": "50f7ae2c",
   "metadata": {},
   "source": [
    "## Заключение"
   ]
  },
  {
   "cell_type": "markdown",
   "id": "37fb5fdd",
   "metadata": {},
   "source": [
    "Сформированы результирующие таблицы - таблица с цепочкой касаний для каждой транзакции `transactions_chain` и таблица с самыми популялярными цепочками касаний - `top_chain`.\n",
    "\n",
    "Поскольку анализируемый период небольшой, получилось всего 9 уникальных цепочек (без прямых заходов)."
   ]
  },
  {
   "cell_type": "code",
   "execution_count": 32,
   "id": "3656577e",
   "metadata": {},
   "outputs": [
    {
     "data": {
      "text/html": [
       "<div>\n",
       "<style scoped>\n",
       "    .dataframe tbody tr th:only-of-type {\n",
       "        vertical-align: middle;\n",
       "    }\n",
       "\n",
       "    .dataframe tbody tr th {\n",
       "        vertical-align: top;\n",
       "    }\n",
       "\n",
       "    .dataframe thead th {\n",
       "        text-align: right;\n",
       "    }\n",
       "</style>\n",
       "<table border=\"1\" class=\"dataframe\">\n",
       "  <thead>\n",
       "    <tr style=\"text-align: right;\">\n",
       "      <th></th>\n",
       "      <th>transactionId</th>\n",
       "      <th>chain</th>\n",
       "    </tr>\n",
       "  </thead>\n",
       "  <tbody>\n",
       "    <tr>\n",
       "      <th>0</th>\n",
       "      <td>ORD201707312556</td>\n",
       "      <td>direct_none</td>\n",
       "    </tr>\n",
       "    <tr>\n",
       "      <th>1</th>\n",
       "      <td>ORD201707252631</td>\n",
       "      <td>direct_none</td>\n",
       "    </tr>\n",
       "    <tr>\n",
       "      <th>2</th>\n",
       "      <td>ORD201708012322</td>\n",
       "      <td>direct_none =&gt; direct_none =&gt; mail.google_referral</td>\n",
       "    </tr>\n",
       "    <tr>\n",
       "      <th>3</th>\n",
       "      <td>ORD201707242363</td>\n",
       "      <td>direct_none</td>\n",
       "    </tr>\n",
       "    <tr>\n",
       "      <th>4</th>\n",
       "      <td>ORD201707192364</td>\n",
       "      <td>google_cpm =&gt; google_organic</td>\n",
       "    </tr>\n",
       "  </tbody>\n",
       "</table>\n",
       "</div>"
      ],
      "text/plain": [
       "     transactionId                                               chain\n",
       "0  ORD201707312556                                         direct_none\n",
       "1  ORD201707252631                                         direct_none\n",
       "2  ORD201708012322  direct_none => direct_none => mail.google_referral\n",
       "3  ORD201707242363                                         direct_none\n",
       "4  ORD201707192364                        google_cpm => google_organic"
      ]
     },
     "execution_count": 32,
     "metadata": {},
     "output_type": "execute_result"
    }
   ],
   "source": [
    "transactions_chain.head()"
   ]
  },
  {
   "cell_type": "code",
   "execution_count": 33,
   "id": "19b203d5",
   "metadata": {},
   "outputs": [
    {
     "data": {
      "text/html": [
       "<div>\n",
       "<style scoped>\n",
       "    .dataframe tbody tr th:only-of-type {\n",
       "        vertical-align: middle;\n",
       "    }\n",
       "\n",
       "    .dataframe tbody tr th {\n",
       "        vertical-align: top;\n",
       "    }\n",
       "\n",
       "    .dataframe thead th {\n",
       "        text-align: right;\n",
       "    }\n",
       "</style>\n",
       "<table border=\"1\" class=\"dataframe\">\n",
       "  <thead>\n",
       "    <tr style=\"text-align: right;\">\n",
       "      <th></th>\n",
       "      <th>n_chains</th>\n",
       "    </tr>\n",
       "  </thead>\n",
       "  <tbody>\n",
       "    <tr>\n",
       "      <th>google_organic</th>\n",
       "      <td>95</td>\n",
       "    </tr>\n",
       "    <tr>\n",
       "      <th>google_cpc</th>\n",
       "      <td>18</td>\n",
       "    </tr>\n",
       "    <tr>\n",
       "      <th>google_cpm</th>\n",
       "      <td>7</td>\n",
       "    </tr>\n",
       "    <tr>\n",
       "      <th>google_cpc =&gt; google_organic</th>\n",
       "      <td>4</td>\n",
       "    </tr>\n",
       "    <tr>\n",
       "      <th>mail.google_referral</th>\n",
       "      <td>2</td>\n",
       "    </tr>\n",
       "    <tr>\n",
       "      <th>google_cpm =&gt; google_organic</th>\n",
       "      <td>2</td>\n",
       "    </tr>\n",
       "    <tr>\n",
       "      <th>sites.google_referral</th>\n",
       "      <td>2</td>\n",
       "    </tr>\n",
       "    <tr>\n",
       "      <th>youtube_referral</th>\n",
       "      <td>1</td>\n",
       "    </tr>\n",
       "    <tr>\n",
       "      <th>google_organic =&gt; google_cpc =&gt; google_organic</th>\n",
       "      <td>1</td>\n",
       "    </tr>\n",
       "  </tbody>\n",
       "</table>\n",
       "</div>"
      ],
      "text/plain": [
       "                                                n_chains\n",
       "google_organic                                        95\n",
       "google_cpc                                            18\n",
       "google_cpm                                             7\n",
       "google_cpc => google_organic                           4\n",
       "mail.google_referral                                   2\n",
       "google_cpm => google_organic                           2\n",
       "sites.google_referral                                  2\n",
       "youtube_referral                                       1\n",
       "google_organic => google_cpc => google_organic         1"
      ]
     },
     "execution_count": 33,
     "metadata": {},
     "output_type": "execute_result"
    }
   ],
   "source": [
    "top_chain"
   ]
  },
  {
   "cell_type": "markdown",
   "id": "c09f86ab",
   "metadata": {},
   "source": [
    "##### Вывод\n",
    "Таким образом, наиболее популярным рекламным источником является google - именно для него и его сервисов наиболее часто встречаются переходы, приведшие к транзакциям.\n",
    "\n",
    "Также отметим, что чаще всего транзакция совершалась в первый визит - в 60,6% случаев, в 20,5% - во второй визит и в 8,1% случаев - в 3-й визит."
   ]
  }
 ],
 "metadata": {
  "kernelspec": {
   "display_name": "Python 3 (ipykernel)",
   "language": "python",
   "name": "python3"
  },
  "language_info": {
   "codemirror_mode": {
    "name": "ipython",
    "version": 3
   },
   "file_extension": ".py",
   "mimetype": "text/x-python",
   "name": "python",
   "nbconvert_exporter": "python",
   "pygments_lexer": "ipython3",
   "version": "3.9.12"
  },
  "toc": {
   "base_numbering": 1,
   "nav_menu": {},
   "number_sections": false,
   "sideBar": true,
   "skip_h1_title": false,
   "title_cell": "Table of Contents",
   "title_sidebar": "Contents",
   "toc_cell": false,
   "toc_position": {},
   "toc_section_display": true,
   "toc_window_display": false
  }
 },
 "nbformat": 4,
 "nbformat_minor": 5
}
